{
 "cells": [
  {
   "cell_type": "code",
   "execution_count": 1,
   "metadata": {},
   "outputs": [
    {
     "name": "stdout",
     "output_type": "stream",
     "text": [
      "Requirement already satisfied: pytesseract in /home/meghal/.local/lib/python3.8/site-packages (0.3.10)\n",
      "Requirement already satisfied: Pillow>=8.0.0 in /home/meghal/.local/lib/python3.8/site-packages (from pytesseract) (9.2.0)\n",
      "Requirement already satisfied: packaging>=21.3 in /home/meghal/.local/lib/python3.8/site-packages (from pytesseract) (21.3)\n",
      "Requirement already satisfied: pyparsing!=3.0.5,>=2.0.2 in /home/meghal/.local/lib/python3.8/site-packages (from packaging>=21.3->pytesseract) (3.0.8)\n"
     ]
    }
   ],
   "source": [
    "\n",
    "! pip install pytesseract"
   ]
  },
  {
   "cell_type": "code",
   "execution_count": 2,
   "metadata": {},
   "outputs": [],
   "source": [
    "import numpy as np\n",
    "import pandas as pd\n",
    "from pytesseract import Output\n",
    "import pytesseract\n",
    "import cv2"
   ]
  },
  {
   "cell_type": "code",
   "execution_count": 3,
   "metadata": {},
   "outputs": [],
   "source": [
    "image = cv2.imread('/home/meghal/Personal/Personal Data/Dropbox Documents/Old Data Science Projects/Text Extraction Using OCR/Images/lazydogs.jpg')"
   ]
  },
  {
   "cell_type": "code",
   "execution_count": 4,
   "metadata": {},
   "outputs": [
    {
     "name": "stdout",
     "output_type": "stream",
     "text": [
      "level : [1, 2, 3, 4, 5, 5, 5, 5, 4, 5, 5, 5, 5, 4, 5, 5]\n",
      "page_num : [1, 1, 1, 1, 1, 1, 1, 1, 1, 1, 1, 1, 1, 1, 1, 1]\n",
      "block_num : [0, 1, 1, 1, 1, 1, 1, 1, 1, 1, 1, 1, 1, 1, 1, 1]\n",
      "par_num : [0, 0, 1, 1, 1, 1, 1, 1, 1, 1, 1, 1, 1, 1, 1, 1]\n",
      "line_num : [0, 0, 0, 1, 1, 1, 1, 1, 2, 2, 2, 2, 2, 3, 3, 3]\n",
      "word_num : [0, 0, 0, 0, 1, 2, 3, 4, 0, 1, 2, 3, 4, 0, 1, 2]\n",
      "left : [0, 26, 26, 32, 32, 225, 478, 759, 26, 26, 377, 587, 749, 37, 37, 228]\n",
      "top : [0, 18, 18, 18, 19, 19, 19, 18, 126, 126, 144, 126, 127, 233, 233, 233]\n",
      "width : [900, 858, 858, 852, 159, 219, 245, 125, 768, 313, 182, 127, 45, 415, 160, 224]\n",
      "height : [381, 304, 304, 89, 70, 88, 70, 71, 89, 89, 52, 70, 69, 89, 89, 89]\n",
      "conf : [-1, -1, -1, -1, 96, 96, 96, 96, -1, 96, 95, 96, 96, -1, 96, 95]\n",
      "text : ['', '', '', '', 'The', 'quick', 'brown', 'fox', '', 'jumped', 'over', 'the', '5', '', 'lazy', 'dogs!']\n"
     ]
    }
   ],
   "source": [
    "results = pytesseract.image_to_data(image, output_type=Output.DICT)\n",
    "for key, value in results.items():\n",
    "    print(key,\":\",value)"
   ]
  },
  {
   "cell_type": "code",
   "execution_count": 5,
   "metadata": {},
   "outputs": [],
   "source": [
    "for i in range(0, len(results['text'])):\n",
    "    x = results['left'][i]\n",
    "    y = results['top'][i]\n",
    "    \n",
    "    w = results['width'][i]\n",
    "    h = results['height'][i]\n",
    "    text = results['text'][i]\n",
    "    conf = int(results['conf'][i])\n",
    "\n",
    "    if conf > 70:\n",
    "        text = \"\".join([c if ord(c) < 128 else \"\" for c in text]).strip()\n",
    "        cv2.rectangle(image, (x, y), (x + w, y + h), (0, 255, 0), 2)\n",
    "        cv2.putText(image, text, (x, y - 2), cv2.FONT_HERSHEY_COMPLEX, 0.5, (0, 0, 200), 2)"
   ]
  },
  {
   "cell_type": "code",
   "execution_count": 6,
   "metadata": {},
   "outputs": [
    {
     "data": {
      "text/plain": [
       "48"
      ]
     },
     "execution_count": 6,
     "metadata": {},
     "output_type": "execute_result"
    },
    {
     "ename": "",
     "evalue": "",
     "output_type": "error",
     "traceback": [
      "The Kernel crashed while executing code in the the current cell or a previous cell. Please review the code in the cell(s) to identify a possible cause of the failure. Click <a href='https://aka.ms/vscodeJupyterKernelCrash'>here</a> for more info. View Jupyter <a href='command:jupyter.viewOutput'>log</a> for further details."
     ]
    }
   ],
   "source": [
    "# blank[100:200, 200:300] = 0,0,255\n",
    "cv2.imshow(\"Image\", image)\n",
    "cv2.waitKey(0)"
   ]
  }
 ],
 "metadata": {
  "kernelspec": {
   "display_name": "Python 3.8.10 64-bit",
   "language": "python",
   "name": "python3"
  },
  "language_info": {
   "codemirror_mode": {
    "name": "ipython",
    "version": 3
   },
   "file_extension": ".py",
   "mimetype": "text/x-python",
   "name": "python",
   "nbconvert_exporter": "python",
   "pygments_lexer": "ipython3",
   "version": "3.8.10"
  },
  "orig_nbformat": 4,
  "vscode": {
   "interpreter": {
    "hash": "916dbcbb3f70747c44a77c7bcd40155683ae19c65e1c03b4aa3499c5328201f1"
   }
  }
 },
 "nbformat": 4,
 "nbformat_minor": 2
}
